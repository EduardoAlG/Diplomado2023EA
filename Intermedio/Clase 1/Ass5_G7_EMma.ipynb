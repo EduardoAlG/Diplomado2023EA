{
 "cells": [
  {
   "cell_type": "markdown",
   "id": "6ec3ef28",
   "metadata": {},
   "source": [
    "## I) Instalando paquetes necesarios"
   ]
  },
  {
   "cell_type": "code",
   "execution_count": 1,
   "id": "2f4ccbc4",
   "metadata": {},
   "outputs": [],
   "source": [
    "from selenium import webdriver\n",
    "from selenium.webdriver.chrome.service import Service\n",
    "from selenium.webdriver.common.by import By\n",
    "from selenium.webdriver.support.ui import Select\n",
    "from selenium.webdriver.common.action_chains import ActionChains\n",
    "from selenium.webdriver.common.keys import Keys\n",
    "import time\n",
    "\n",
    "import pandas as pd"
   ]
  },
  {
   "cell_type": "markdown",
   "id": "08785b4c",
   "metadata": {},
   "source": [
    "## II) Para obtener el número total de elecciones que se necesitan"
   ]
  },
  {
   "cell_type": "code",
   "execution_count": 2,
   "id": "99aa6e53",
   "metadata": {},
   "outputs": [],
   "source": [
    " # Set antes de entrar a la página web #\n",
    "service = Service()\n",
    "options = webdriver.ChromeOptions()\n",
    "options.add_argument( '--ignore-certificate-errors' )\n",
    "options.add_argument( '--incognito' )  # Para que entre en modo incógnito\n",
    "\n",
    "driver = webdriver.Chrome(service = service, options = options)\n",
    "driver.maximize_window()"
   ]
  },
  {
   "cell_type": "code",
   "execution_count": 3,
   "id": "b279ef46",
   "metadata": {},
   "outputs": [],
   "source": [
    "# Ingresando a la página web\n",
    "enlace_base = \"https://infogob.jne.gob.pe/Eleccion\"\n",
    "driver.set_page_load_timeout( 20 )\n",
    "    \n",
    "web = driver.get(enlace_base)\n",
    "time.sleep(15)"
   ]
  },
  {
   "cell_type": "code",
   "execution_count": 4,
   "id": "27fb7360",
   "metadata": {},
   "outputs": [],
   "source": [
    "# Para hacer selección en filtro \"Tipo de proceso\" = Elecciones presidenciales\n",
    "filtro_proceso = driver.find_element(By.XPATH, '//*[@id=\"section\"]/div[2]/div[2]/div[2]/div[1]/div')\n",
    "filtro_proceso.click()\n",
    "time.sleep(2)\n",
    "    \n",
    "# Mover hacia abajo en la lista desplegable tres veces\n",
    "for _ in range(1):\n",
    "    ActionChains(driver).send_keys(Keys.ARROW_DOWN).perform()\n",
    "    time.sleep(2)\n",
    "    \n",
    "# Seleccionar la opción actualmente resaltada\n",
    "ActionChains(driver).send_keys(Keys.ENTER).perform()\n",
    "time.sleep(2)"
   ]
  },
  {
   "cell_type": "code",
   "execution_count": 5,
   "id": "0bebbb1c",
   "metadata": {},
   "outputs": [
    {
     "name": "stdout",
     "output_type": "stream",
     "text": [
      "Total de elementos en la lista desplegable: 26\n"
     ]
    }
   ],
   "source": [
    "# Para obtener total de opciones en filtro \"Elección\"\n",
    "filtro_eleccion = driver.find_element(By.XPATH,'//*[@id=\"IdEleccion\"]')\n",
    "select = Select(filtro_eleccion)\n",
    "all_eleccion = select.options\n",
    "total_eleccion = len(all_eleccion)\n",
    "\n",
    "print(f\"Total de elementos en la lista desplegable: {total_eleccion}\")"
   ]
  },
  {
   "cell_type": "code",
   "execution_count": 10,
   "id": "ac14f484",
   "metadata": {},
   "outputs": [
    {
     "data": {
      "text/plain": [
       "26"
      ]
     },
     "execution_count": 10,
     "metadata": {},
     "output_type": "execute_result"
    }
   ],
   "source": [
    "total_eleccion"
   ]
  },
  {
   "cell_type": "markdown",
   "id": "e1cc0041",
   "metadata": {},
   "source": [
    "## III) Iniciando searching en la web"
   ]
  },
  {
   "cell_type": "code",
   "execution_count": 23,
   "id": "8489f97a",
   "metadata": {},
   "outputs": [],
   "source": [
    "# Configuración del bucle\n",
    "service = Service()\n",
    "options = webdriver.ChromeOptions()\n",
    "options.add_argument('--ignore-certificate-errors')\n",
    "options.add_argument('--incognito')\n",
    "driver = webdriver.Chrome(service=service, options=options)\n",
    "driver.maximize_window()\n",
    "\n",
    "enlace_base = \"https://infogob.jne.gob.pe/Eleccion\"\n",
    "driver.set_page_load_timeout(10)"
   ]
  },
  {
   "cell_type": "code",
   "execution_count": null,
   "id": "0a902806",
   "metadata": {},
   "outputs": [],
   "source": [
    "# Lugar para las tablas obtenidas\n",
    "tables_list = []\n",
    "\n",
    "\n",
    "i = total_eleccion + 1\n",
    "\n",
    "for k in range(1,i):\n",
    "    time.sleep(10)\n",
    "    # Set antes de entrar a la página web\n",
    "    driver.get(enlace_base)\n",
    "    time.sleep(10)\n",
    "\n",
    "    # Para hacer selección en filtro \"Tipo de proceso\"\n",
    "    filtro_proceso = driver.find_element(By.XPATH, '//*[@id=\"section\"]/div[2]/div[2]/div[2]/div[1]/div')\n",
    "    filtro_proceso.click()\n",
    "    time.sleep(2)\n",
    "\n",
    "    # Mover hacia abajo en la lista desplegable una vez\n",
    "    ActionChains(driver).send_keys(Keys.ARROW_DOWN).perform()\n",
    "    time.sleep(2)\n",
    "\n",
    "    # Seleccionar la opción actualmente resaltada\n",
    "    ActionChains(driver).send_keys(Keys.ENTER).perform()\n",
    "    time.sleep(2)\n",
    "\n",
    "    # Para hacer selección en filtro \"Elección\"\n",
    "    filtro_eleccion = driver.find_element(By.XPATH, '//*[@id=\"section\"]/div[2]/div[2]/div[2]/div[2]/div')\n",
    "    filtro_eleccion.click()\n",
    "    time.sleep(2)\n",
    "\n",
    "    # Mover hacia abajo en la lista desplegable k veces\n",
    "    for _ in range(k):\n",
    "        ActionChains(driver).send_keys(Keys.ARROW_DOWN).perform()\n",
    "        time.sleep(2) # lo cambié de 0.5 a 2 s.\n",
    "\n",
    "    # Seleccionar la opción actualmente resaltada\n",
    "    ActionChains(driver).send_keys(Keys.ENTER).perform()\n",
    "    time.sleep(2) # lo cambié de 0.5 a 2 s.\n",
    "    \n",
    "    # Para ingresar a ver los datos de la elección seleccionada\n",
    "    boton_datos = driver.find_element(By.XPATH, '//*[@id=\"btnVerDatos\"]')\n",
    "    boton_datos.click()\n",
    "    time.sleep(10)\n",
    "\n",
    "    ########### A partir de acá se va a la página para la obtención de datos ###########\n",
    "    ########### Ingresar códigos dentro del bucle ###########\n",
    "    \n",
    "    \n",
    "    # Para ingresar a ver la tabla de resultados de la elección seleccionada\n",
    "    resultado_datos = driver.find_element(By.XPATH, '//*[@id=\"section\"]/div[2]/div[3]/div[1]/ul/li[2]/a')\n",
    "    resultado_datos.click()\n",
    "    time.sleep(10)\n",
    "\n",
    "    \n",
    "    # Leer el texto html de la tabla\n",
    "    table_path = driver.find_element(By.XPATH, '/html/body/div[1]/section/div[2]/div[3]/div[3]/div/div/div/div[1]/div[2]/div[2]')\n",
    "    table_html = table_path.get_attribute('innerHTML')\n",
    "    table_data = pd.read_html(table_html)[0]\n",
    "    \n",
    "    # Agregar una columna 'Elecciones' con el valor de filtro_eleccion\n",
    "    table_data['Elecciones'] = filtro_eleccion.text\n",
    "\n",
    "    # Unir la tabla obtenida en la lista de tablas.\n",
    "    tables_list.append(table_data)\n",
    "    time.sleep(2)\n",
    "    \n",
    "    # Imprimir la tabla de la actual iteración\n",
    "    print(f\"Table Data for Iteration {k}:\\n\")\n",
    "    print(table_data)\n",
    "    print(\"\\n\" + \"=\" * 50 + \"\\n\")\n",
    "    \n",
    "    time.sleep(2)\n",
    "\n",
    "# Cerrar el navegador al final del bucle\n",
    "driver.quit()\n",
    "\n",
    "# Concatenar todas las tablas en un único DataFrame final\n",
    "final_dataframe = pd.concat(tables_list, ignore_index=True)[['Elecciones', 'ORGANIZACIÓN POLÍTICA', 'TOTAL VOTOS']]\n",
    "print(\"\\nFinal DataFrame:\\n\")\n",
    "\n",
    "# Guardar el dataframe como un archivo Excel\n",
    "final_dataframe.to_excel(\"resultados_elecciones.xlsx\", index=False)\n",
    "\n",
    "final_dataframe.head(10)"
   ]
  }
 ],
 "metadata": {
  "kernelspec": {
   "display_name": "Python 3 (ipykernel)",
   "language": "python",
   "name": "python3"
  },
  "language_info": {
   "codemirror_mode": {
    "name": "ipython",
    "version": 3
   },
   "file_extension": ".py",
   "mimetype": "text/x-python",
   "name": "python",
   "nbconvert_exporter": "python",
   "pygments_lexer": "ipython3",
   "version": "3.11.5"
  }
 },
 "nbformat": 4,
 "nbformat_minor": 5
}
