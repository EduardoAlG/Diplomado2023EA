{
 "cells": [
  {
   "cell_type": "markdown",
   "id": "ce42ab6d",
   "metadata": {},
   "source": [
    "# Assiment 10"
   ]
  },
  {
   "cell_type": "markdown",
   "id": "812aa9d7",
   "metadata": {},
   "source": [
    "#### Get the 15 variables from this raster for all Peru departments polygons. This is the link where shapefiles are located. This is the link of the source raster. The values should be the percentage of district area cover by this specific Morphological Settlement Zone."
   ]
  },
  {
   "cell_type": "code",
   "execution_count": 1,
   "id": "e6b2726f",
   "metadata": {
    "scrolled": true
   },
   "outputs": [
    {
     "name": "stdout",
     "output_type": "stream",
     "text": [
      "Requirement already satisfied: rasterio in d:\\anaconda\\lib\\site-packages (1.3.9)\n",
      "Requirement already satisfied: affine in d:\\anaconda\\lib\\site-packages (from rasterio) (2.4.0)\n",
      "Requirement already satisfied: attrs in d:\\anaconda\\lib\\site-packages (from rasterio) (22.1.0)\n",
      "Requirement already satisfied: certifi in d:\\anaconda\\lib\\site-packages (from rasterio) (2024.2.2)\n",
      "Requirement already satisfied: click>=4.0 in d:\\anaconda\\lib\\site-packages (from rasterio) (8.0.4)\n",
      "Requirement already satisfied: cligj>=0.5 in d:\\anaconda\\lib\\site-packages (from rasterio) (0.7.2)\n",
      "Requirement already satisfied: numpy in d:\\anaconda\\lib\\site-packages (from rasterio) (1.24.3)\n",
      "Requirement already satisfied: snuggs>=1.4.1 in d:\\anaconda\\lib\\site-packages (from rasterio) (1.4.7)\n",
      "Requirement already satisfied: click-plugins in d:\\anaconda\\lib\\site-packages (from rasterio) (1.1.1)\n",
      "Requirement already satisfied: setuptools in d:\\anaconda\\lib\\site-packages (from rasterio) (68.0.0)\n",
      "Requirement already satisfied: colorama in d:\\anaconda\\lib\\site-packages (from click>=4.0->rasterio) (0.4.6)\n",
      "Requirement already satisfied: pyparsing>=2.1.6 in d:\\anaconda\\lib\\site-packages (from snuggs>=1.4.1->rasterio) (3.0.9)\n"
     ]
    }
   ],
   "source": [
    "!pip install rasterio"
   ]
  },
  {
   "cell_type": "code",
   "execution_count": 9,
   "id": "4c9562d6",
   "metadata": {},
   "outputs": [
    {
     "name": "stdout",
     "output_type": "stream",
     "text": [
      "Note: you may need to restart the kernel to use updated packages.\n"
     ]
    }
   ],
   "source": [
    "%pip install geopandas matplotlib shapely rasterio numpy pandas sklearn-xarray -q"
   ]
  },
  {
   "cell_type": "code",
   "execution_count": 1,
   "id": "254e51b4",
   "metadata": {},
   "outputs": [],
   "source": [
    "import pandas as pd\n",
    "import geopandas as gpd\n",
    "\n",
    "import os\n",
    "\n",
    "\n",
    "import rasterio\n",
    "import geopandas as gpd\n",
    "import matplotlib.pyplot as plt\n",
    "from rasterio.merge import merge\n",
    "from rasterio.plot import show\n",
    "import os\n",
    "import rasterio\n",
    "from rasterio.mask import mask\n",
    "\n",
    "import geopandas as gpd\n",
    "import pyproj\n",
    "from shapely.ops import transform"
   ]
  },
  {
   "cell_type": "code",
   "execution_count": 3,
   "id": "a7e31ae8",
   "metadata": {},
   "outputs": [
    {
     "data": {
      "text/html": [
       "<div>\n",
       "<style scoped>\n",
       "    .dataframe tbody tr th:only-of-type {\n",
       "        vertical-align: middle;\n",
       "    }\n",
       "\n",
       "    .dataframe tbody tr th {\n",
       "        vertical-align: top;\n",
       "    }\n",
       "\n",
       "    .dataframe thead th {\n",
       "        text-align: right;\n",
       "    }\n",
       "</style>\n",
       "<table border=\"1\" class=\"dataframe\">\n",
       "  <thead>\n",
       "    <tr style=\"text-align: right;\">\n",
       "      <th></th>\n",
       "      <th>OBJECTID_1</th>\n",
       "      <th>OBJECTID</th>\n",
       "      <th>CCDD</th>\n",
       "      <th>NOMBDEP</th>\n",
       "      <th>CAPITAL</th>\n",
       "      <th>Shape_STAr</th>\n",
       "      <th>Shape_STLe</th>\n",
       "      <th>ORIG_FID</th>\n",
       "      <th>Shape_Leng</th>\n",
       "      <th>Shape_Area</th>\n",
       "      <th>CORREO</th>\n",
       "      <th>CONTACTO</th>\n",
       "      <th>WHATSAPP</th>\n",
       "      <th>geometry</th>\n",
       "    </tr>\n",
       "  </thead>\n",
       "  <tbody>\n",
       "    <tr>\n",
       "      <th>0</th>\n",
       "      <td>1</td>\n",
       "      <td>1.0</td>\n",
       "      <td>01</td>\n",
       "      <td>AMAZONAS</td>\n",
       "      <td>CHACHAPOYAS</td>\n",
       "      <td>3.203006</td>\n",
       "      <td>12.912088</td>\n",
       "      <td>0</td>\n",
       "      <td>12.912088</td>\n",
       "      <td>3.203006</td>\n",
       "      <td>juan.suyo@geogpsperu.com</td>\n",
       "      <td>www.geogpsperu.com</td>\n",
       "      <td>931381206</td>\n",
       "      <td>POLYGON ((-77.81399 -2.99278, -77.81483 -2.995...</td>\n",
       "    </tr>\n",
       "    <tr>\n",
       "      <th>1</th>\n",
       "      <td>2</td>\n",
       "      <td>2.0</td>\n",
       "      <td>02</td>\n",
       "      <td>ANCASH</td>\n",
       "      <td>HUARAZ</td>\n",
       "      <td>2.954592</td>\n",
       "      <td>11.780424</td>\n",
       "      <td>1</td>\n",
       "      <td>11.780424</td>\n",
       "      <td>2.954592</td>\n",
       "      <td>juan.suyo@geogpsperu.com</td>\n",
       "      <td>www.geogpsperu.com</td>\n",
       "      <td>931381206</td>\n",
       "      <td>POLYGON ((-77.64697 -8.05086, -77.64689 -8.051...</td>\n",
       "    </tr>\n",
       "    <tr>\n",
       "      <th>2</th>\n",
       "      <td>3</td>\n",
       "      <td>3.0</td>\n",
       "      <td>03</td>\n",
       "      <td>APURIMAC</td>\n",
       "      <td>ABANCAY</td>\n",
       "      <td>1.765933</td>\n",
       "      <td>7.730154</td>\n",
       "      <td>2</td>\n",
       "      <td>7.730154</td>\n",
       "      <td>1.765933</td>\n",
       "      <td>juan.suyo@geogpsperu.com</td>\n",
       "      <td>www.geogpsperu.com</td>\n",
       "      <td>931381206</td>\n",
       "      <td>POLYGON ((-73.74655 -13.17442, -73.74570 -13.1...</td>\n",
       "    </tr>\n",
       "    <tr>\n",
       "      <th>3</th>\n",
       "      <td>4</td>\n",
       "      <td>4.0</td>\n",
       "      <td>04</td>\n",
       "      <td>AREQUIPA</td>\n",
       "      <td>AREQUIPA</td>\n",
       "      <td>5.330203</td>\n",
       "      <td>17.405040</td>\n",
       "      <td>3</td>\n",
       "      <td>17.405040</td>\n",
       "      <td>5.330203</td>\n",
       "      <td>juan.suyo@geogpsperu.com</td>\n",
       "      <td>www.geogpsperu.com</td>\n",
       "      <td>931381206</td>\n",
       "      <td>POLYGON ((-71.98109 -14.64062, -71.98093 -14.6...</td>\n",
       "    </tr>\n",
       "    <tr>\n",
       "      <th>4</th>\n",
       "      <td>5</td>\n",
       "      <td>5.0</td>\n",
       "      <td>05</td>\n",
       "      <td>AYACUCHO</td>\n",
       "      <td>AYACUCHO</td>\n",
       "      <td>3.643705</td>\n",
       "      <td>17.127166</td>\n",
       "      <td>4</td>\n",
       "      <td>17.127166</td>\n",
       "      <td>3.643705</td>\n",
       "      <td>juan.suyo@geogpsperu.com</td>\n",
       "      <td>www.geogpsperu.com</td>\n",
       "      <td>931381206</td>\n",
       "      <td>POLYGON ((-74.34843 -12.17503, -74.35000 -12.1...</td>\n",
       "    </tr>\n",
       "  </tbody>\n",
       "</table>\n",
       "</div>"
      ],
      "text/plain": [
       "   OBJECTID_1  OBJECTID CCDD   NOMBDEP      CAPITAL  Shape_STAr  Shape_STLe  \\\n",
       "0           1       1.0   01  AMAZONAS  CHACHAPOYAS    3.203006   12.912088   \n",
       "1           2       2.0   02    ANCASH       HUARAZ    2.954592   11.780424   \n",
       "2           3       3.0   03  APURIMAC      ABANCAY    1.765933    7.730154   \n",
       "3           4       4.0   04  AREQUIPA     AREQUIPA    5.330203   17.405040   \n",
       "4           5       5.0   05  AYACUCHO     AYACUCHO    3.643705   17.127166   \n",
       "\n",
       "   ORIG_FID  Shape_Leng  Shape_Area                    CORREO  \\\n",
       "0         0   12.912088    3.203006  juan.suyo@geogpsperu.com   \n",
       "1         1   11.780424    2.954592  juan.suyo@geogpsperu.com   \n",
       "2         2    7.730154    1.765933  juan.suyo@geogpsperu.com   \n",
       "3         3   17.405040    5.330203  juan.suyo@geogpsperu.com   \n",
       "4         4   17.127166    3.643705  juan.suyo@geogpsperu.com   \n",
       "\n",
       "             CONTACTO   WHATSAPP  \\\n",
       "0  www.geogpsperu.com  931381206   \n",
       "1  www.geogpsperu.com  931381206   \n",
       "2  www.geogpsperu.com  931381206   \n",
       "3  www.geogpsperu.com  931381206   \n",
       "4  www.geogpsperu.com  931381206   \n",
       "\n",
       "                                            geometry  \n",
       "0  POLYGON ((-77.81399 -2.99278, -77.81483 -2.995...  \n",
       "1  POLYGON ((-77.64697 -8.05086, -77.64689 -8.051...  \n",
       "2  POLYGON ((-73.74655 -13.17442, -73.74570 -13.1...  \n",
       "3  POLYGON ((-71.98109 -14.64062, -71.98093 -14.6...  \n",
       "4  POLYGON ((-74.34843 -12.17503, -74.35000 -12.1...  "
      ]
     },
     "execution_count": 3,
     "metadata": {},
     "output_type": "execute_result"
    }
   ],
   "source": [
    "deparment = gpd.read_file('../../../_data/INEI_LIMITE_DEPARTAMENTAL/INEI_LIMITE_DEPARTAMENTAL.shx')\n",
    "deparment.head(5)"
   ]
  },
  {
   "cell_type": "code",
   "execution_count": 6,
   "id": "a38ab0df",
   "metadata": {
    "scrolled": true
   },
   "outputs": [
    {
     "ename": "MemoryError",
     "evalue": "Unable to allocate 8.38 GiB for an array with shape (1, 90000, 100000) and data type uint8",
     "output_type": "error",
     "traceback": [
      "\u001b[1;31m---------------------------------------------------------------------------\u001b[0m",
      "\u001b[1;31mMemoryError\u001b[0m                               Traceback (most recent call last)",
      "Cell \u001b[1;32mIn[6], line 9\u001b[0m\n\u001b[0;32m      6\u001b[0m \u001b[38;5;66;03m# Abrir el archivo raster\u001b[39;00m\n\u001b[0;32m      7\u001b[0m \u001b[38;5;28;01mwith\u001b[39;00m rasterio\u001b[38;5;241m.\u001b[39mopen(ruta_archivo) \u001b[38;5;28;01mas\u001b[39;00m src:\n\u001b[0;32m      8\u001b[0m     \u001b[38;5;66;03m# Leer los datos del raster\u001b[39;00m\n\u001b[1;32m----> 9\u001b[0m     raster_data \u001b[38;5;241m=\u001b[39m src\u001b[38;5;241m.\u001b[39mread()\n\u001b[0;32m     11\u001b[0m \u001b[38;5;66;03m# Obtener información sobre el raster (opcional)\u001b[39;00m\n\u001b[0;32m     12\u001b[0m \u001b[38;5;28;01mwith\u001b[39;00m rasterio\u001b[38;5;241m.\u001b[39mopen(ruta_archivo) \u001b[38;5;28;01mas\u001b[39;00m src:\n",
      "File \u001b[1;32mrasterio\\\\_io.pyx:627\u001b[0m, in \u001b[0;36mrasterio._io.DatasetReaderBase.read\u001b[1;34m()\u001b[0m\n",
      "\u001b[1;31mMemoryError\u001b[0m: Unable to allocate 8.38 GiB for an array with shape (1, 90000, 100000) and data type uint8"
     ]
    }
   ],
   "source": [
    "import rasterio\n",
    "\n",
    "# Ruta del archivo raster\n",
    "ruta_archivo = '../../../_data/rasters_europa/GHS_BUILT_C_MSZ_E2018_GLOBE_R2023A_54009_10_V1_0_R10_C10 (1)/GHS_BUILT_C_MSZ_E2018_GLOBE_R2023A_54009_10_V1_0_R10_C10.tif'\n",
    "\n",
    "# Abrir el archivo raster\n",
    "with rasterio.open(ruta_archivo) as src:\n",
    "    # Leer los datos del raster\n",
    "    raster_data = src.read()\n",
    "\n",
    "# Obtener información sobre el raster (opcional)\n",
    "with rasterio.open(ruta_archivo) as src:\n",
    "    raster_info = src.profile\n",
    "\n",
    "# Imprimir información sobre el raster (opcional)\n",
    "print(raster_info)"
   ]
  },
  {
   "cell_type": "code",
   "execution_count": 7,
   "id": "476ab0d9",
   "metadata": {},
   "outputs": [
    {
     "ename": "MemoryError",
     "evalue": "Unable to allocate 64.0 KiB for an array with shape (1, 256, 256) and data type uint8",
     "output_type": "error",
     "traceback": [
      "\u001b[1;31m---------------------------------------------------------------------------\u001b[0m",
      "\u001b[1;31mMemoryError\u001b[0m                               Traceback (most recent call last)",
      "Cell \u001b[1;32mIn[7], line 11\u001b[0m\n\u001b[0;32m      9\u001b[0m     raster_data \u001b[38;5;241m=\u001b[39m []\n\u001b[0;32m     10\u001b[0m     \u001b[38;5;28;01mfor\u001b[39;00m _, window \u001b[38;5;129;01min\u001b[39;00m src\u001b[38;5;241m.\u001b[39mblock_windows(\u001b[38;5;241m1\u001b[39m):\n\u001b[1;32m---> 11\u001b[0m         data \u001b[38;5;241m=\u001b[39m src\u001b[38;5;241m.\u001b[39mread(window\u001b[38;5;241m=\u001b[39mwindow)\n\u001b[0;32m     12\u001b[0m         raster_data\u001b[38;5;241m.\u001b[39mappend(data)\n\u001b[0;32m     14\u001b[0m \u001b[38;5;66;03m# Convertir la lista de partes en un único array\u001b[39;00m\n",
      "File \u001b[1;32mrasterio\\\\_io.pyx:627\u001b[0m, in \u001b[0;36mrasterio._io.DatasetReaderBase.read\u001b[1;34m()\u001b[0m\n",
      "\u001b[1;31mMemoryError\u001b[0m: Unable to allocate 64.0 KiB for an array with shape (1, 256, 256) and data type uint8"
     ]
    }
   ],
   "source": [
    "import rasterio\n",
    "\n",
    "# Ruta del archivo raster\n",
    "ruta_archivo = '../../../_data/rasters_europa/GHS_BUILT_C_MSZ_E2018_GLOBE_R2023A_54009_10_V1_0_R10_C10 (1)/GHS_BUILT_C_MSZ_E2018_GLOBE_R2023A_54009_10_V1_0_R10_C10.tif'\n",
    "\n",
    "# Abrir el archivo raster\n",
    "with rasterio.open(ruta_archivo) as src:\n",
    "    # Leer los datos del raster por partes\n",
    "    raster_data = []\n",
    "    for _, window in src.block_windows(1):\n",
    "        data = src.read(window=window)\n",
    "        raster_data.append(data)\n",
    "\n",
    "# Convertir la lista de partes en un único array\n",
    "raster_data = np.concatenate(raster_data, axis=1)\n",
    "\n",
    "# Obtener información sobre el raster (opcional)\n",
    "with rasterio.open(ruta_archivo) as src:\n",
    "    raster_info = src.profile\n",
    "\n",
    "# Imprimir información sobre el raster (opcional)\n",
    "print(raster_info)\n",
    "\n",
    "# Ahora puedes trabajar con los datos del raster almacenados en la variable raster_data"
   ]
  },
  {
   "cell_type": "code",
   "execution_count": 5,
   "id": "f3233e56",
   "metadata": {},
   "outputs": [
    {
     "ename": "MemoryError",
     "evalue": "Unable to allocate 8.38 GiB for an array with shape (1, 90000, 100000) and data type uint8",
     "output_type": "error",
     "traceback": [
      "\u001b[1;31m---------------------------------------------------------------------------\u001b[0m",
      "\u001b[1;31mMemoryError\u001b[0m                               Traceback (most recent call last)",
      "Cell \u001b[1;32mIn[5], line 16\u001b[0m\n\u001b[0;32m     13\u001b[0m num_bands \u001b[38;5;241m=\u001b[39m src\u001b[38;5;241m.\u001b[39mcount\n\u001b[0;32m     15\u001b[0m \u001b[38;5;66;03m# Read the first band data\u001b[39;00m\n\u001b[1;32m---> 16\u001b[0m band1 \u001b[38;5;241m=\u001b[39m src\u001b[38;5;241m.\u001b[39mread(\u001b[38;5;241m1\u001b[39m)\n\u001b[0;32m     18\u001b[0m \u001b[38;5;66;03m# Plot the first band\u001b[39;00m\n\u001b[0;32m     19\u001b[0m plt\u001b[38;5;241m.\u001b[39mimshow(band1, cmap\u001b[38;5;241m=\u001b[39m\u001b[38;5;124m'\u001b[39m\u001b[38;5;124mgray\u001b[39m\u001b[38;5;124m'\u001b[39m)\n",
      "File \u001b[1;32mrasterio\\\\_io.pyx:627\u001b[0m, in \u001b[0;36mrasterio._io.DatasetReaderBase.read\u001b[1;34m()\u001b[0m\n",
      "\u001b[1;31mMemoryError\u001b[0m: Unable to allocate 8.38 GiB for an array with shape (1, 90000, 100000) and data type uint8"
     ]
    }
   ],
   "source": [
    "import rasterio\n",
    "import matplotlib.pyplot as plt\n",
    "\n",
    "# Path to the TIFF file\n",
    "tif_file_path = '../../../_data/rasters_europa/GHS_BUILT_C_MSZ_E2018_GLOBE_R2023A_54009_10_V1_0_R10_C10 (1)/GHS_BUILT_C_MSZ_E2018_GLOBE_R2023A_54009_10_V1_0_R10_C10.tif'\n",
    "\n",
    "# Since we can't access external files in this environment, this code is for demonstration purposes only\n",
    "# Replace the path with the actual path when you run it in your local environment\n",
    "\n",
    "# Open the TIFF file\n",
    "with rasterio.open(tif_file_path) as src:\n",
    "    # Read the number of bands\n",
    "    num_bands = src.count\n",
    "    \n",
    "    # Read the first band data\n",
    "    band1 = src.read(1)\n",
    "    \n",
    "    # Plot the first band\n",
    "    plt.imshow(band1, cmap='gray')\n",
    "    plt.colorbar()\n",
    "    plt.title(f'Band 1 of TIFF file (Total bands: {num_bands})')\n",
    "    plt.show()\n",
    "    \n",
    "    # Output the number of bands\n",
    "    print(f\"The TIFF file has {num_bands} bands.\")"
   ]
  },
  {
   "cell_type": "code",
   "execution_count": 8,
   "id": "e8d94ac0",
   "metadata": {},
   "outputs": [
    {
     "ename": "MemoryError",
     "evalue": "Unable to allocate 8.38 GiB for an array with shape (1, 90000, 100000) and data type uint8",
     "output_type": "error",
     "traceback": [
      "\u001b[1;31m---------------------------------------------------------------------------\u001b[0m",
      "\u001b[1;31mMemoryError\u001b[0m                               Traceback (most recent call last)",
      "Cell \u001b[1;32mIn[8], line 16\u001b[0m\n\u001b[0;32m     13\u001b[0m num_bands \u001b[38;5;241m=\u001b[39m src\u001b[38;5;241m.\u001b[39mcount\n\u001b[0;32m     15\u001b[0m \u001b[38;5;66;03m# Read the first band data\u001b[39;00m\n\u001b[1;32m---> 16\u001b[0m band1 \u001b[38;5;241m=\u001b[39m src\u001b[38;5;241m.\u001b[39mread(\u001b[38;5;241m1\u001b[39m)\n\u001b[0;32m     18\u001b[0m \u001b[38;5;66;03m# Plot the first band\u001b[39;00m\n\u001b[0;32m     19\u001b[0m plt\u001b[38;5;241m.\u001b[39mimshow(band1, cmap\u001b[38;5;241m=\u001b[39m\u001b[38;5;124m'\u001b[39m\u001b[38;5;124mgray\u001b[39m\u001b[38;5;124m'\u001b[39m)\n",
      "File \u001b[1;32mrasterio\\\\_io.pyx:627\u001b[0m, in \u001b[0;36mrasterio._io.DatasetReaderBase.read\u001b[1;34m()\u001b[0m\n",
      "\u001b[1;31mMemoryError\u001b[0m: Unable to allocate 8.38 GiB for an array with shape (1, 90000, 100000) and data type uint8"
     ]
    }
   ],
   "source": [
    "import rasterio\n",
    "import matplotlib.pyplot as plt\n",
    "\n",
    "# Path to the TIFF file\n",
    "tif_file_path = '../../../_data/rasters_europa/GHS_BUILT_C_MSZ_E2018_GLOBE_R2023A_54009_10_V1_0_R10_C10 (1)/GHS_BUILT_C_MSZ_E2018_GLOBE_R2023A_54009_10_V1_0_R10_C10.tif'\n",
    "\n",
    "# Since we can't access external files in this environment, this code is for demonstration purposes only\n",
    "# Replace the path with the actual path when you run it in your local environment\n",
    "\n",
    "# Open the TIFF file\n",
    "with rasterio.open(tif_file_path) as src:\n",
    "    # Read the number of bands\n",
    "    num_bands = src.count\n",
    "\n",
    "    # Read the first band data\n",
    "    band1 = src.read(1)\n",
    "\n",
    "    # Plot the first band\n",
    "    plt.imshow(band1, cmap='gray')\n",
    "    plt.colorbar()\n",
    "    plt.title(f'Band 1 of TIFF file (Total bands: {num_bands})')\n",
    "    plt.show()\n",
    "\n",
    "    # Output the number of bands\n",
    "    print(f\"The TIFF file has {num_bands} bands.\")"
   ]
  },
  {
   "cell_type": "code",
   "execution_count": null,
   "id": "09cec85e",
   "metadata": {},
   "outputs": [],
   "source": []
  }
 ],
 "metadata": {
  "kernelspec": {
   "display_name": "Python 3 (ipykernel)",
   "language": "python",
   "name": "python3"
  },
  "language_info": {
   "codemirror_mode": {
    "name": "ipython",
    "version": 3
   },
   "file_extension": ".py",
   "mimetype": "text/x-python",
   "name": "python",
   "nbconvert_exporter": "python",
   "pygments_lexer": "ipython3",
   "version": "3.11.5"
  }
 },
 "nbformat": 4,
 "nbformat_minor": 5
}
