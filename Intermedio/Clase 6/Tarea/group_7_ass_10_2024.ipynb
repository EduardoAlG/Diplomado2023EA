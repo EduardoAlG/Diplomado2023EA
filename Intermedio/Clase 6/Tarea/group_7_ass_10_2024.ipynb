{
 "cells": [
  {
   "cell_type": "markdown",
   "id": "ce42ab6d",
   "metadata": {},
   "source": [
    "# Assiment 10"
   ]
  },
  {
   "cell_type": "markdown",
   "id": "812aa9d7",
   "metadata": {},
   "source": [
    "#### Get the 15 variables from this raster for all Peru departments polygons. This is the link where shapefiles are located. This is the link of the source raster. The values should be the percentage of district area cover by this specific Morphological Settlement Zone."
   ]
  },
  {
   "cell_type": "code",
   "execution_count": null,
   "id": "c049ab20",
   "metadata": {},
   "outputs": [],
   "source": [
    "from google.colab import drive\n",
    "drive.mount('/content/drive')"
   ]
  },
  {
   "cell_type": "code",
   "execution_count": 1,
   "id": "e6b2726f",
   "metadata": {
    "scrolled": true
   },
   "outputs": [
    {
     "name": "stdout",
     "output_type": "stream",
     "text": [
      "Requirement already satisfied: rasterio in d:\\anaconda\\lib\\site-packages (1.3.9)\n",
      "Requirement already satisfied: affine in d:\\anaconda\\lib\\site-packages (from rasterio) (2.4.0)\n",
      "Requirement already satisfied: attrs in d:\\anaconda\\lib\\site-packages (from rasterio) (22.1.0)\n",
      "Requirement already satisfied: certifi in d:\\anaconda\\lib\\site-packages (from rasterio) (2024.2.2)\n",
      "Requirement already satisfied: click>=4.0 in d:\\anaconda\\lib\\site-packages (from rasterio) (8.0.4)\n",
      "Requirement already satisfied: cligj>=0.5 in d:\\anaconda\\lib\\site-packages (from rasterio) (0.7.2)\n",
      "Requirement already satisfied: numpy in d:\\anaconda\\lib\\site-packages (from rasterio) (1.24.3)\n",
      "Requirement already satisfied: snuggs>=1.4.1 in d:\\anaconda\\lib\\site-packages (from rasterio) (1.4.7)\n",
      "Requirement already satisfied: click-plugins in d:\\anaconda\\lib\\site-packages (from rasterio) (1.1.1)\n",
      "Requirement already satisfied: setuptools in d:\\anaconda\\lib\\site-packages (from rasterio) (68.0.0)\n",
      "Requirement already satisfied: colorama in d:\\anaconda\\lib\\site-packages (from click>=4.0->rasterio) (0.4.6)\n",
      "Requirement already satisfied: pyparsing>=2.1.6 in d:\\anaconda\\lib\\site-packages (from snuggs>=1.4.1->rasterio) (3.0.9)\n"
     ]
    }
   ],
   "source": [
    "!pip install rasterio"
   ]
  },
  {
   "cell_type": "code",
   "execution_count": null,
   "id": "bf27d0a9",
   "metadata": {},
   "outputs": [],
   "source": [
    "# requirementss\n",
    "%pip install geopandas matplotlib shapely rasterio numpy pandas sklearn-xarray -q\n",
    "%pip install git+https://github.com/jgrss/geowombat  -q"
   ]
  },
  {
   "cell_type": "code",
   "execution_count": 9,
   "id": "4c9562d6",
   "metadata": {},
   "outputs": [
    {
     "name": "stdout",
     "output_type": "stream",
     "text": [
      "Note: you may need to restart the kernel to use updated packages.\n"
     ]
    }
   ],
   "source": [
    "%pip install rasterstats"
   ]
  },
  {
   "cell_type": "code",
   "execution_count": null,
   "id": "d8e931f8",
   "metadata": {},
   "outputs": [],
   "source": [
    "!pip install geopandas"
   ]
  },
  {
   "cell_type": "code",
   "execution_count": 1,
   "id": "254e51b4",
   "metadata": {},
   "outputs": [],
   "source": [
    "import geopandas as gpd\n",
    "from rasterstats import zonal_stats\n",
    "import pandas as pd\n",
    "import geowombat as gw\n",
    "\n",
    "import rasterio\n",
    "import matplotlib.pyplot as plt\n",
    "from rasterio.merge import merge\n",
    "from rasterio.plot import show\n",
    "from rasterio.mask import mask\n",
    "\n",
    "import geopandas as gpd\n",
    "from geopandas import GeoSeries\n",
    "from shapely.geometry import Point, LineString\n",
    "import numpy as np\n",
    "import chardet\n",
    "\n",
    "import pyproj\n",
    "from shapely.ops import transform\n",
    "\n",
    "from pathlib import Path\n",
    "import matplotlib.pyplot as plt\n",
    "import matplotlib.patheffects as pe"
   ]
  },
  {
   "cell_type": "code",
   "execution_count": 3,
   "id": "a7e31ae8",
   "metadata": {},
   "outputs": [
    {
     "data": {
      "text/html": [
       "<div>\n",
       "<style scoped>\n",
       "    .dataframe tbody tr th:only-of-type {\n",
       "        vertical-align: middle;\n",
       "    }\n",
       "\n",
       "    .dataframe tbody tr th {\n",
       "        vertical-align: top;\n",
       "    }\n",
       "\n",
       "    .dataframe thead th {\n",
       "        text-align: right;\n",
       "    }\n",
       "</style>\n",
       "<table border=\"1\" class=\"dataframe\">\n",
       "  <thead>\n",
       "    <tr style=\"text-align: right;\">\n",
       "      <th></th>\n",
       "      <th>OBJECTID_1</th>\n",
       "      <th>OBJECTID</th>\n",
       "      <th>CCDD</th>\n",
       "      <th>NOMBDEP</th>\n",
       "      <th>CAPITAL</th>\n",
       "      <th>Shape_STAr</th>\n",
       "      <th>Shape_STLe</th>\n",
       "      <th>ORIG_FID</th>\n",
       "      <th>Shape_Leng</th>\n",
       "      <th>Shape_Area</th>\n",
       "      <th>CORREO</th>\n",
       "      <th>CONTACTO</th>\n",
       "      <th>WHATSAPP</th>\n",
       "      <th>geometry</th>\n",
       "    </tr>\n",
       "  </thead>\n",
       "  <tbody>\n",
       "    <tr>\n",
       "      <th>0</th>\n",
       "      <td>1</td>\n",
       "      <td>1.0</td>\n",
       "      <td>01</td>\n",
       "      <td>AMAZONAS</td>\n",
       "      <td>CHACHAPOYAS</td>\n",
       "      <td>3.203006</td>\n",
       "      <td>12.912088</td>\n",
       "      <td>0</td>\n",
       "      <td>12.912088</td>\n",
       "      <td>3.203006</td>\n",
       "      <td>juan.suyo@geogpsperu.com</td>\n",
       "      <td>www.geogpsperu.com</td>\n",
       "      <td>931381206</td>\n",
       "      <td>POLYGON ((-77.81399 -2.99278, -77.81483 -2.995...</td>\n",
       "    </tr>\n",
       "    <tr>\n",
       "      <th>1</th>\n",
       "      <td>2</td>\n",
       "      <td>2.0</td>\n",
       "      <td>02</td>\n",
       "      <td>ANCASH</td>\n",
       "      <td>HUARAZ</td>\n",
       "      <td>2.954592</td>\n",
       "      <td>11.780424</td>\n",
       "      <td>1</td>\n",
       "      <td>11.780424</td>\n",
       "      <td>2.954592</td>\n",
       "      <td>juan.suyo@geogpsperu.com</td>\n",
       "      <td>www.geogpsperu.com</td>\n",
       "      <td>931381206</td>\n",
       "      <td>POLYGON ((-77.64697 -8.05086, -77.64689 -8.051...</td>\n",
       "    </tr>\n",
       "    <tr>\n",
       "      <th>2</th>\n",
       "      <td>3</td>\n",
       "      <td>3.0</td>\n",
       "      <td>03</td>\n",
       "      <td>APURIMAC</td>\n",
       "      <td>ABANCAY</td>\n",
       "      <td>1.765933</td>\n",
       "      <td>7.730154</td>\n",
       "      <td>2</td>\n",
       "      <td>7.730154</td>\n",
       "      <td>1.765933</td>\n",
       "      <td>juan.suyo@geogpsperu.com</td>\n",
       "      <td>www.geogpsperu.com</td>\n",
       "      <td>931381206</td>\n",
       "      <td>POLYGON ((-73.74655 -13.17442, -73.74570 -13.1...</td>\n",
       "    </tr>\n",
       "    <tr>\n",
       "      <th>3</th>\n",
       "      <td>4</td>\n",
       "      <td>4.0</td>\n",
       "      <td>04</td>\n",
       "      <td>AREQUIPA</td>\n",
       "      <td>AREQUIPA</td>\n",
       "      <td>5.330203</td>\n",
       "      <td>17.405040</td>\n",
       "      <td>3</td>\n",
       "      <td>17.405040</td>\n",
       "      <td>5.330203</td>\n",
       "      <td>juan.suyo@geogpsperu.com</td>\n",
       "      <td>www.geogpsperu.com</td>\n",
       "      <td>931381206</td>\n",
       "      <td>POLYGON ((-71.98109 -14.64062, -71.98093 -14.6...</td>\n",
       "    </tr>\n",
       "    <tr>\n",
       "      <th>4</th>\n",
       "      <td>5</td>\n",
       "      <td>5.0</td>\n",
       "      <td>05</td>\n",
       "      <td>AYACUCHO</td>\n",
       "      <td>AYACUCHO</td>\n",
       "      <td>3.643705</td>\n",
       "      <td>17.127166</td>\n",
       "      <td>4</td>\n",
       "      <td>17.127166</td>\n",
       "      <td>3.643705</td>\n",
       "      <td>juan.suyo@geogpsperu.com</td>\n",
       "      <td>www.geogpsperu.com</td>\n",
       "      <td>931381206</td>\n",
       "      <td>POLYGON ((-74.34843 -12.17503, -74.35000 -12.1...</td>\n",
       "    </tr>\n",
       "  </tbody>\n",
       "</table>\n",
       "</div>"
      ],
      "text/plain": [
       "   OBJECTID_1  OBJECTID CCDD   NOMBDEP      CAPITAL  Shape_STAr  Shape_STLe  \\\n",
       "0           1       1.0   01  AMAZONAS  CHACHAPOYAS    3.203006   12.912088   \n",
       "1           2       2.0   02    ANCASH       HUARAZ    2.954592   11.780424   \n",
       "2           3       3.0   03  APURIMAC      ABANCAY    1.765933    7.730154   \n",
       "3           4       4.0   04  AREQUIPA     AREQUIPA    5.330203   17.405040   \n",
       "4           5       5.0   05  AYACUCHO     AYACUCHO    3.643705   17.127166   \n",
       "\n",
       "   ORIG_FID  Shape_Leng  Shape_Area                    CORREO  \\\n",
       "0         0   12.912088    3.203006  juan.suyo@geogpsperu.com   \n",
       "1         1   11.780424    2.954592  juan.suyo@geogpsperu.com   \n",
       "2         2    7.730154    1.765933  juan.suyo@geogpsperu.com   \n",
       "3         3   17.405040    5.330203  juan.suyo@geogpsperu.com   \n",
       "4         4   17.127166    3.643705  juan.suyo@geogpsperu.com   \n",
       "\n",
       "             CONTACTO   WHATSAPP  \\\n",
       "0  www.geogpsperu.com  931381206   \n",
       "1  www.geogpsperu.com  931381206   \n",
       "2  www.geogpsperu.com  931381206   \n",
       "3  www.geogpsperu.com  931381206   \n",
       "4  www.geogpsperu.com  931381206   \n",
       "\n",
       "                                            geometry  \n",
       "0  POLYGON ((-77.81399 -2.99278, -77.81483 -2.995...  \n",
       "1  POLYGON ((-77.64697 -8.05086, -77.64689 -8.051...  \n",
       "2  POLYGON ((-73.74655 -13.17442, -73.74570 -13.1...  \n",
       "3  POLYGON ((-71.98109 -14.64062, -71.98093 -14.6...  \n",
       "4  POLYGON ((-74.34843 -12.17503, -74.35000 -12.1...  "
      ]
     },
     "execution_count": 3,
     "metadata": {},
     "output_type": "execute_result"
    }
   ],
   "source": [
    "shapefile_path = '/content/drive/MyDrive/TIF/INEI_LIMITE_DEPARTAMENTAL.shp'\n",
    "department = gpd.read_file(shapefile_path)\n",
    "print(department.head())"
   ]
  },
  {
   "cell_type": "code",
   "execution_count": 6,
   "id": "a38ab0df",
   "metadata": {
    "scrolled": true
   },
   "outputs": [
    {
     "ename": "MemoryError",
     "evalue": "Unable to allocate 8.38 GiB for an array with shape (1, 90000, 100000) and data type uint8",
     "output_type": "error",
     "traceback": [
      "\u001b[1;31m---------------------------------------------------------------------------\u001b[0m",
      "\u001b[1;31mMemoryError\u001b[0m                               Traceback (most recent call last)",
      "Cell \u001b[1;32mIn[6], line 9\u001b[0m\n\u001b[0;32m      6\u001b[0m \u001b[38;5;66;03m# Abrir el archivo raster\u001b[39;00m\n\u001b[0;32m      7\u001b[0m \u001b[38;5;28;01mwith\u001b[39;00m rasterio\u001b[38;5;241m.\u001b[39mopen(ruta_archivo) \u001b[38;5;28;01mas\u001b[39;00m src:\n\u001b[0;32m      8\u001b[0m     \u001b[38;5;66;03m# Leer los datos del raster\u001b[39;00m\n\u001b[1;32m----> 9\u001b[0m     raster_data \u001b[38;5;241m=\u001b[39m src\u001b[38;5;241m.\u001b[39mread()\n\u001b[0;32m     11\u001b[0m \u001b[38;5;66;03m# Obtener información sobre el raster (opcional)\u001b[39;00m\n\u001b[0;32m     12\u001b[0m \u001b[38;5;28;01mwith\u001b[39;00m rasterio\u001b[38;5;241m.\u001b[39mopen(ruta_archivo) \u001b[38;5;28;01mas\u001b[39;00m src:\n",
      "File \u001b[1;32mrasterio\\\\_io.pyx:627\u001b[0m, in \u001b[0;36mrasterio._io.DatasetReaderBase.read\u001b[1;34m()\u001b[0m\n",
      "\u001b[1;31mMemoryError\u001b[0m: Unable to allocate 8.38 GiB for an array with shape (1, 90000, 100000) and data type uint8"
     ]
    }
   ],
   "source": [
    "transformer = pyproj.Transformer.from_crs('epsg:4326', 'esri:54009', always_xy=True)\n",
    "\n",
    "# Define a function to apply the transformation\n",
    "def apply_transform(geom):\n",
    "    return transform(transformer.transform, geom)\n",
    "\n",
    "# Apply the transformation to the geometries\n",
    "department['geometry'] = department['geometry'].apply(apply_transform)"
   ]
  },
  {
   "cell_type": "code",
   "execution_count": null,
   "id": "e2f95e9d",
   "metadata": {},
   "outputs": [],
   "source": [
    "print(department.head())"
   ]
  },
  {
   "cell_type": "code",
   "execution_count": 7,
   "id": "476ab0d9",
   "metadata": {},
   "outputs": [
    {
     "ename": "MemoryError",
     "evalue": "Unable to allocate 64.0 KiB for an array with shape (1, 256, 256) and data type uint8",
     "output_type": "error",
     "traceback": [
      "\u001b[1;31m---------------------------------------------------------------------------\u001b[0m",
      "\u001b[1;31mMemoryError\u001b[0m                               Traceback (most recent call last)",
      "Cell \u001b[1;32mIn[7], line 11\u001b[0m\n\u001b[0;32m      9\u001b[0m     raster_data \u001b[38;5;241m=\u001b[39m []\n\u001b[0;32m     10\u001b[0m     \u001b[38;5;28;01mfor\u001b[39;00m _, window \u001b[38;5;129;01min\u001b[39;00m src\u001b[38;5;241m.\u001b[39mblock_windows(\u001b[38;5;241m1\u001b[39m):\n\u001b[1;32m---> 11\u001b[0m         data \u001b[38;5;241m=\u001b[39m src\u001b[38;5;241m.\u001b[39mread(window\u001b[38;5;241m=\u001b[39mwindow)\n\u001b[0;32m     12\u001b[0m         raster_data\u001b[38;5;241m.\u001b[39mappend(data)\n\u001b[0;32m     14\u001b[0m \u001b[38;5;66;03m# Convertir la lista de partes en un único array\u001b[39;00m\n",
      "File \u001b[1;32mrasterio\\\\_io.pyx:627\u001b[0m, in \u001b[0;36mrasterio._io.DatasetReaderBase.read\u001b[1;34m()\u001b[0m\n",
      "\u001b[1;31mMemoryError\u001b[0m: Unable to allocate 64.0 KiB for an array with shape (1, 256, 256) and data type uint8"
     ]
    }
   ],
   "source": [
    "# List of raster file paths\n",
    "tif_file_path = [\n",
    "    '/content/drive/MyDrive/TIF/GHS_BUILT_C_MSZ_E2018_GLOBE_R2023A_54009_10_V1_0_R10_C10.tif',\n",
    "    '/content/drive/MyDrive/TIF/GHS_BUILT_C_MSZ_E2018_GLOBE_R2023A_54009_10_V1_0_R10_C11.tif',\n",
    "    '/content/drive/MyDrive/TIF/GHS_BUILT_C_MSZ_E2018_GLOBE_R2023A_54009_10_V1_0_R10_C12.tif',\n",
    "    '/content/drive/MyDrive/TIF/GHS_BUILT_C_MSZ_E2018_GLOBE_R2023A_54009_10_V1_0_R11_C11.tif',\n",
    "    '/content/drive/MyDrive/TIF/GHS_BUILT_C_MSZ_E2018_GLOBE_R2023A_54009_10_V1_0_R11_C12.tif',\n",
    "    '/content/drive/MyDrive/TIF/GHS_BUILT_C_MSZ_E2018_GLOBE_R2023A_54009_10_V1_0_R12_C11.tif',\n",
    "    '/content/drive/MyDrive/TIF/GHS_BUILT_C_MSZ_E2018_GLOBE_R2023A_54009_10_V1_0_R12_C12.tif',\n",
    "    '/content/drive/MyDrive/TIF/GHS_BUILT_C_MSZ_E2018_GLOBE_R2023A_54009_10_V1_0_R9_C10.tif',\n",
    "    '/content/drive/MyDrive/TIF/GHS_BUILT_C_MSZ_E2018_GLOBE_R2023A_54009_10_V1_0_R9_C11.tif',\n",
    "    '/content/drive/MyDrive/TIF/GHS_BUILT_C_MSZ_E2018_GLOBE_R2023A_54009_10_V1_0_R9_C12.tif'\n",
    "]\n",
    "\n",
    "# Ciclo para cargar cada archivo raster\n",
    "for file_path in tif_file_path:\n",
    "    # Abrir el archivo raster usando geowombat.open\n",
    "    with gw.open(file_path) as src:\n",
    "        # Visualizar información del raster\n",
    "        data = src.where(src != 0)\n",
    "\n",
    "data.head(3)"
   ]
  },
  {
   "cell_type": "code",
   "execution_count": 5,
   "id": "f3233e56",
   "metadata": {},
   "outputs": [
    {
     "ename": "MemoryError",
     "evalue": "Unable to allocate 8.38 GiB for an array with shape (1, 90000, 100000) and data type uint8",
     "output_type": "error",
     "traceback": [
      "\u001b[1;31m---------------------------------------------------------------------------\u001b[0m",
      "\u001b[1;31mMemoryError\u001b[0m                               Traceback (most recent call last)",
      "Cell \u001b[1;32mIn[5], line 16\u001b[0m\n\u001b[0;32m     13\u001b[0m num_bands \u001b[38;5;241m=\u001b[39m src\u001b[38;5;241m.\u001b[39mcount\n\u001b[0;32m     15\u001b[0m \u001b[38;5;66;03m# Read the first band data\u001b[39;00m\n\u001b[1;32m---> 16\u001b[0m band1 \u001b[38;5;241m=\u001b[39m src\u001b[38;5;241m.\u001b[39mread(\u001b[38;5;241m1\u001b[39m)\n\u001b[0;32m     18\u001b[0m \u001b[38;5;66;03m# Plot the first band\u001b[39;00m\n\u001b[0;32m     19\u001b[0m plt\u001b[38;5;241m.\u001b[39mimshow(band1, cmap\u001b[38;5;241m=\u001b[39m\u001b[38;5;124m'\u001b[39m\u001b[38;5;124mgray\u001b[39m\u001b[38;5;124m'\u001b[39m)\n",
      "File \u001b[1;32mrasterio\\\\_io.pyx:627\u001b[0m, in \u001b[0;36mrasterio._io.DatasetReaderBase.read\u001b[1;34m()\u001b[0m\n",
      "\u001b[1;31mMemoryError\u001b[0m: Unable to allocate 8.38 GiB for an array with shape (1, 90000, 100000) and data type uint8"
     ]
    }
   ],
   "source": [
    "# Lista de rutas de archivos raster\n",
    "tif_file_path = [\n",
    "    '/content/drive/MyDrive/TIF/GHS_BUILT_C_MSZ_E2018_GLOBE_R2023A_54009_10_V1_0_R10_C10.tif',\n",
    "    '/content/drive/MyDrive/TIF/GHS_BUILT_C_MSZ_E2018_GLOBE_R2023A_54009_10_V1_0_R10_C11.tif',\n",
    "    '/content/drive/MyDrive/TIF/GHS_BUILT_C_MSZ_E2018_GLOBE_R2023A_54009_10_V1_0_R10_C12.tif',\n",
    "    '/content/drive/MyDrive/TIF/GHS_BUILT_C_MSZ_E2018_GLOBE_R2023A_54009_10_V1_0_R11_C11.tif',\n",
    "    '/content/drive/MyDrive/TIF/GHS_BUILT_C_MSZ_E2018_GLOBE_R2023A_54009_10_V1_0_R11_C12.tif',\n",
    "    '/content/drive/MyDrive/TIF/GHS_BUILT_C_MSZ_E2018_GLOBE_R2023A_54009_10_V1_0_R12_C11.tif',\n",
    "    '/content/drive/MyDrive/TIF/GHS_BUILT_C_MSZ_E2018_GLOBE_R2023A_54009_10_V1_0_R12_C12.tif',\n",
    "    '/content/drive/MyDrive/TIF/GHS_BUILT_C_MSZ_E2018_GLOBE_R2023A_54009_10_V1_0_R9_C10.tif',\n",
    "    '/content/drive/MyDrive/TIF/GHS_BUILT_C_MSZ_E2018_GLOBE_R2023A_54009_10_V1_0_R9_C11.tif',\n",
    "    '/content/drive/MyDrive/TIF/GHS_BUILT_C_MSZ_E2018_GLOBE_R2023A_54009_10_V1_0_R9_C12.tif'\n",
    "]"
   ]
  },
  {
   "cell_type": "code",
   "execution_count": 8,
   "id": "e8d94ac0",
   "metadata": {},
   "outputs": [
    {
     "ename": "MemoryError",
     "evalue": "Unable to allocate 8.38 GiB for an array with shape (1, 90000, 100000) and data type uint8",
     "output_type": "error",
     "traceback": [
      "\u001b[1;31m---------------------------------------------------------------------------\u001b[0m",
      "\u001b[1;31mMemoryError\u001b[0m                               Traceback (most recent call last)",
      "Cell \u001b[1;32mIn[8], line 16\u001b[0m\n\u001b[0;32m     13\u001b[0m num_bands \u001b[38;5;241m=\u001b[39m src\u001b[38;5;241m.\u001b[39mcount\n\u001b[0;32m     15\u001b[0m \u001b[38;5;66;03m# Read the first band data\u001b[39;00m\n\u001b[1;32m---> 16\u001b[0m band1 \u001b[38;5;241m=\u001b[39m src\u001b[38;5;241m.\u001b[39mread(\u001b[38;5;241m1\u001b[39m)\n\u001b[0;32m     18\u001b[0m \u001b[38;5;66;03m# Plot the first band\u001b[39;00m\n\u001b[0;32m     19\u001b[0m plt\u001b[38;5;241m.\u001b[39mimshow(band1, cmap\u001b[38;5;241m=\u001b[39m\u001b[38;5;124m'\u001b[39m\u001b[38;5;124mgray\u001b[39m\u001b[38;5;124m'\u001b[39m)\n",
      "File \u001b[1;32mrasterio\\\\_io.pyx:627\u001b[0m, in \u001b[0;36mrasterio._io.DatasetReaderBase.read\u001b[1;34m()\u001b[0m\n",
      "\u001b[1;31mMemoryError\u001b[0m: Unable to allocate 8.38 GiB for an array with shape (1, 90000, 100000) and data type uint8"
     ]
    }
   ],
   "source": [
    "# We generate a list to obtain the raster data\n",
    "raster_data = []\n",
    "\n",
    "# Iterate over each raster file\n",
    "for raster_path in tif_file_path:\n",
    "    # We intercept the raster information with the shp file\n",
    "    stats = zonal_stats(department, raster_path, stats=\"count sum\", categorical=True, all_touched=True)\n",
    "    # Convert Statistics to DataFrame\n",
    "    stats_df = pd.DataFrame(stats)\n",
    "    # In the created list we concatenate the geometry and raster information of the departments\n",
    "    df = pd.concat([department.reset_index(drop=True), stats_df], axis=1)\n",
    "    raster_data.append(df)"
   ]
  },
  {
   "cell_type": "code",
   "execution_count": null,
   "id": "6c035dc8",
   "metadata": {},
   "outputs": [],
   "source": [
    "# Concatenar todos los DataFrames en all_stats en un único DataFrame\n",
    "final_df_raster = pd.concat(raster_data, ignore_index=True)\n",
    "\n",
    "# Verificar el resultado\n",
    "print(final_df_raster.head())"
   ]
  },
  {
   "cell_type": "code",
   "execution_count": null,
   "id": "09cec85e",
   "metadata": {},
   "outputs": [],
   "source": []
  }
 ],
 "metadata": {
  "kernelspec": {
   "display_name": "Python 3 (ipykernel)",
   "language": "python",
   "name": "python3"
  },
  "language_info": {
   "codemirror_mode": {
    "name": "ipython",
    "version": 3
   },
   "file_extension": ".py",
   "mimetype": "text/x-python",
   "name": "python",
   "nbconvert_exporter": "python",
   "pygments_lexer": "ipython3",
   "version": "3.11.5"
  }
 },
 "nbformat": 4,
 "nbformat_minor": 5
}
