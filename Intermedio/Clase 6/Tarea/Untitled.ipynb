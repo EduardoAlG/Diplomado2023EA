{
 "cells": [
  {
   "cell_type": "code",
   "execution_count": null,
   "id": "3231b762",
   "metadata": {},
   "outputs": [],
   "source": [
    "import geowombat as gw\n",
    "import geopandas as gpd\n",
    "\n",
    "polys = department\n",
    "\n",
    "with gw.open('/content/drive/MyDrive/TIF/GHS_BUILT_C_MSZ_E2018_GLOBE_R2023A_54009_10_V1_0_R10_C10.tif') as src:\n",
    "    print(src)\n",
    "    clipped = src.gw.clip_by_polygon(\n",
    "        polys,\n",
    "        mask_data=True,\n",
    "        expand_by=1\n",
    "    )\n",
    "    print(clipped)"
   ]
  },
  {
   "cell_type": "code",
   "execution_count": null,
   "id": "7f26667c",
   "metadata": {},
   "outputs": [],
   "source": [
    "with gw.open('/content/drive/MyDrive/TIF/GHS_BUILT_C_MSZ_E2018_GLOBE_R2023A_54009_10_V1_0_R10_C10.tif') as src:\n",
    "    df = src.gw.extract(department)"
   ]
  },
  {
   "cell_type": "code",
   "execution_count": null,
   "id": "f30aa2f7",
   "metadata": {},
   "outputs": [],
   "source": [
    "for ruta_tif in tif_file_path:\n",
    "    # Abrir el archivo TIF\n",
    "    with gw.open(ruta_tif) as src:\n",
    "        # Procesar el archivo TIF\n",
    "        df = src.gw.extract(department)\n",
    "        # Hacer algo con el resultado, por ejemplo, imprimirlo\n",
    "        print(df)"
   ]
  },
  {
   "cell_type": "code",
   "execution_count": null,
   "id": "5cf59db6",
   "metadata": {},
   "outputs": [],
   "source": [
    "import geowombat as gw\n",
    "\n",
    "with gw.config.update(sensor='bgr'):\n",
    "    with gw.open('/content/drive/MyDrive/TIF/GHS_BUILT_C_MSZ_E2018_GLOBE_R2023A_54009_10_V1_0_R10_C10.tif') as src:\n",
    "        df = src.gw.extract(\n",
    "            department,\n",
    "            band_names=src.band.values.tolist()\n",
    "        )"
   ]
  },
  {
   "cell_type": "code",
   "execution_count": null,
   "id": "02afe07c",
   "metadata": {},
   "outputs": [],
   "source": [
    "import geopandas as gpd\n",
    "import pandas as pd\n",
    "from rasterstats import zonal_stats\n",
    "\n",
    "# Definir el tamaño del lote (chunk size)\n",
    "chunk_size = 1000  # Ajusta el tamaño del chunk según tus necesidades\n",
    "\n",
    "# Dividir el shapefile en lotes\n",
    "chunks = [department[i:i+chunk_size] for i in range(0, len(department), chunk_size)]\n",
    "\n",
    "# Lista para almacenar los resultados\n",
    "raster_data = []\n",
    "\n",
    "# Iterar sobre cada chunk\n",
    "for chunk in chunks:\n",
    "    for raster_path in tif_file_path:\n",
    "        # Procesar el chunk actual del shapefile y calcular estadísticas zonales para el archivo raster actual\n",
    "        stats = zonal_stats(chunk, raster_path, stats=\"count sum\", categorical=True, all_touched=True)\n",
    "        \n",
    "        # Convertir las estadísticas en un DataFrame\n",
    "        stats_df = pd.DataFrame(stats)\n",
    "        \n",
    "        # Concatenar la geometría del chunk y las estadísticas del raster en un DataFrame\n",
    "        df = pd.concat([chunk.reset_index(drop=True), stats_df], axis=1)\n",
    "        \n",
    "        # Agregar el DataFrame resultante a la lista\n",
    "        raster_data.append(df)\n",
    "\n",
    "# Concatenar todos los DataFrames en uno solo\n",
    "final_result = pd.concat(raster_data, ignore_index=True)"
   ]
  }
 ],
 "metadata": {
  "kernelspec": {
   "display_name": "Python 3 (ipykernel)",
   "language": "python",
   "name": "python3"
  },
  "language_info": {
   "codemirror_mode": {
    "name": "ipython",
    "version": 3
   },
   "file_extension": ".py",
   "mimetype": "text/x-python",
   "name": "python",
   "nbconvert_exporter": "python",
   "pygments_lexer": "ipython3",
   "version": "3.11.5"
  }
 },
 "nbformat": 4,
 "nbformat_minor": 5
}
