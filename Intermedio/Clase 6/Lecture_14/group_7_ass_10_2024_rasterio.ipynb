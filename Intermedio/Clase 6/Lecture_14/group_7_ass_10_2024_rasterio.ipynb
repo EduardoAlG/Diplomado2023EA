{
 "cells": [
  {
   "cell_type": "markdown",
   "id": "607ef13b",
   "metadata": {},
   "source": [
    "# Assiment 10"
   ]
  },
  {
   "cell_type": "markdown",
   "id": "29067b0d",
   "metadata": {},
   "source": [
    "#### Get the 15 variables from this raster for all Peru departments polygons. This is the link where shapefiles are located. This is the link of the source raster. The values should be the percentage of district area cover by this specific Morphological Settlement Zone."
   ]
  },
  {
   "cell_type": "code",
   "execution_count": null,
   "id": "1882c310",
   "metadata": {},
   "outputs": [],
   "source": [
    "from google.colab import drive\n",
    "drive.mount('/content/drive')"
   ]
  },
  {
   "cell_type": "code",
   "execution_count": null,
   "id": "c0803258",
   "metadata": {},
   "outputs": [],
   "source": [
    "!pip install rasterio"
   ]
  },
  {
   "cell_type": "code",
   "execution_count": null,
   "id": "5fd85a94",
   "metadata": {},
   "outputs": [],
   "source": [
    "# requirementss\n",
    "%pip install geopandas matplotlib shapely rasterio numpy pandas sklearn-xarray -q\n",
    "%pip install git+https://github.com/jgrss/geowombat  -q"
   ]
  },
  {
   "cell_type": "code",
   "execution_count": null,
   "id": "b5e0967c",
   "metadata": {},
   "outputs": [],
   "source": [
    "%pip install rasterstats"
   ]
  },
  {
   "cell_type": "code",
   "execution_count": null,
   "id": "3f7205d1",
   "metadata": {},
   "outputs": [],
   "source": [
    "!pip install geopandas"
   ]
  },
  {
   "cell_type": "code",
   "execution_count": null,
   "id": "d75edcab",
   "metadata": {},
   "outputs": [],
   "source": [
    "import geopandas as gpd\n",
    "from rasterstats import zonal_stats\n",
    "import pandas as pd\n",
    "import geowombat as gw\n",
    "\n",
    "import rasterio\n",
    "import matplotlib.pyplot as plt\n",
    "from rasterio.merge import merge\n",
    "from rasterio.plot import show\n",
    "from rasterio.mask import mask\n",
    "\n",
    "import geopandas as gpd\n",
    "from geopandas import GeoSeries\n",
    "from shapely.geometry import Point, LineString\n",
    "import numpy as np\n",
    "import chardet\n",
    "\n",
    "import pyproj\n",
    "from shapely.ops import transform\n",
    "\n",
    "from pathlib import Path\n",
    "import matplotlib.pyplot as plt\n",
    "import matplotlib.patheffects as pe"
   ]
  },
  {
   "cell_type": "code",
   "execution_count": null,
   "id": "29d499e6",
   "metadata": {},
   "outputs": [],
   "source": [
    "shapefile_path = '/content/drive/MyDrive/TIF/INEI_LIMITE_DEPARTAMENTAL.shp'\n",
    "department = gpd.read_file(shapefile_path)\n",
    "print(department.head())"
   ]
  },
  {
   "cell_type": "code",
   "execution_count": null,
   "id": "65ec6891",
   "metadata": {},
   "outputs": [],
   "source": [
    "transformer = pyproj.Transformer.from_crs('epsg:4326', 'esri:54009', always_xy=True)\n",
    "\n",
    "# Define a function to apply the transformation\n",
    "def apply_transform(geom):\n",
    "    return transform(transformer.transform, geom)\n",
    "\n",
    "# Apply the transformation to the geometries\n",
    "department['geometry'] = department['geometry'].apply(apply_transform)"
   ]
  },
  {
   "cell_type": "code",
   "execution_count": null,
   "id": "4816d72b",
   "metadata": {},
   "outputs": [],
   "source": [
    "print(department.head())"
   ]
  },
  {
   "cell_type": "markdown",
   "id": "9d7e2db3",
   "metadata": {},
   "source": [
    "### Prueba 1"
   ]
  },
  {
   "cell_type": "code",
   "execution_count": null,
   "id": "28f6d203",
   "metadata": {},
   "outputs": [],
   "source": [
    "import geowombat as gw\n",
    "import geopandas as gpd\n",
    "\n",
    "polys = gpd.read_file('/content/drive/MyDrive/TIF/INEI_LIMITE_DEPARTAMENTAL.shp')\n",
    "\n",
    "with gw.open('/content/drive/MyDrive/TIF/GHS_BUILT_C_MSZ_E2018_GLOBE_R2023A_54009_10_V1_0_R10_C11.tif') as src:\n",
    "    print(src)\n",
    "    clipped = src.gw.clip_by_polygon(\n",
    "        polys,\n",
    "        mask_data=True,\n",
    "        expand_by=1\n",
    "    )\n",
    "    print(clipped)"
   ]
  },
  {
   "cell_type": "code",
   "execution_count": null,
   "id": "f28e4d83",
   "metadata": {},
   "outputs": [],
   "source": [
    "# Extraer los valores de píxeles y las coordenadas\n",
    "raster_values = clipped.values.flatten()\n",
    "x_coords, y_coords = clipped.xy(np.arange(clipped.width), np.arange(clipped.height))\n",
    "\n",
    "# Crear un DataFrame de pandas\n",
    "df = pd.DataFrame({\n",
    "    'x': x_coords.flatten(),\n",
    "    'y': y_coords.flatten(),\n",
    "    'valor_raster': raster_values\n",
    "})\n",
    "\n",
    "# Imprimir el DataFrame resultante\n",
    "print(df)"
   ]
  },
  {
   "cell_type": "markdown",
   "id": "a73167c2",
   "metadata": {},
   "source": [
    "#### Prueba 2"
   ]
  },
  {
   "cell_type": "code",
   "execution_count": null,
   "id": "f7864d90",
   "metadata": {},
   "outputs": [],
   "source": [
    "from rasterio.windows import from_bounds\n",
    "\n",
    "# Ensure the shapefile is in the same CRS as the raster\n",
    "raster_path = '/content/drive/MyDrive/TIF/GHS_BUILT_C_MSZ_E2018_GLOBE_R2023A_54009_10_V1_0_R10_C10.tif'\n",
    "with rasterio.open(raster_path) as src:\n",
    "\n",
    "    # Create a mask for the intersection area\n",
    "    shapes = [feature[\"geometry\"] for _, feature in department.iterrows()]\n",
    "    out_image, out_transform = mask(src, shapes, crop=True)\n",
    "    out_meta = src.meta.copy()\n",
    "\n",
    "# Update the metadata for the new (clipped) raster\n",
    "out_meta.update({\n",
    "    \"driver\": \"GTiff\",\n",
    "    \"height\": out_image.shape[1],\n",
    "    \"width\": out_image.shape[2],\n",
    "    \"transform\": out_transform\n",
    "})\n",
    "\n",
    "# Save the clipped raster to a new file\n",
    "output_raster_path = '/content/sample_data/raster_1.tif'\n",
    "with rasterio.open(output_raster_path, 'w', **out_meta) as dst:\n",
    "    dst.write(out_image)"
   ]
  },
  {
   "cell_type": "code",
   "execution_count": null,
   "id": "645db408",
   "metadata": {},
   "outputs": [],
   "source": [
    "import geopandas as gpd\n",
    "import pandas as pd\n",
    "import geowombat as gw\n",
    "\n",
    "# Ruta al archivo raster\n",
    "raster_path = '/content/sample_data/raster_1.tif'\n",
    "\n",
    "# Recortar el raster por el polígono de interés utilizando GeoWombat\n",
    "with gw.open(raster_path) as src:\n",
    "    clipped = src.gw.clip_by_polygon(\n",
    "        department,\n",
    "        mask_data=True\n",
    "    )\n",
    "\n",
    "# Extraer los valores de píxeles y las coordenadas\n",
    "raster_values = clipped.values.flatten()\n",
    "x_coords, y_coords = clipped.xy(np.arange(clipped.width), np.arange(clipped.height))\n",
    "\n",
    "# Crear un DataFrame de pandas\n",
    "df = pd.DataFrame({\n",
    "    'x': x_coords.flatten(),\n",
    "    'y': y_coords.flatten(),\n",
    "    'valor_raster': raster_values\n",
    "})\n",
    "\n",
    "# Imprimir el DataFrame resultante\n",
    "print(df)"
   ]
  }
 ],
 "metadata": {
  "kernelspec": {
   "display_name": "Python 3 (ipykernel)",
   "language": "python",
   "name": "python3"
  },
  "language_info": {
   "codemirror_mode": {
    "name": "ipython",
    "version": 3
   },
   "file_extension": ".py",
   "mimetype": "text/x-python",
   "name": "python",
   "nbconvert_exporter": "python",
   "pygments_lexer": "ipython3",
   "version": "3.11.5"
  }
 },
 "nbformat": 4,
 "nbformat_minor": 5
}
